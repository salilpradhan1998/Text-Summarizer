{
 "cells": [
  {
   "cell_type": "code",
   "execution_count": 1,
   "id": "14aac76c",
   "metadata": {},
   "outputs": [],
   "source": [
    "import re\n",
    "from bs4 import BeautifulSoup as bs\n",
    "import re\n",
    "import spacy\n",
    "from spacy.lang.en.stop_words import STOP_WORDS as sw\n",
    "from string import punctuation as pun\n",
    "from heapq import nlargest\n",
    "import requests\n",
    "from string import punctuation"
   ]
  },
  {
   "cell_type": "code",
   "execution_count": 2,
   "id": "b291a346",
   "metadata": {},
   "outputs": [
    {
     "name": "stdout",
     "output_type": "stream",
     "text": [
      "Enter your search key: India\n"
     ]
    }
   ],
   "source": [
    "key = input('Enter your search key: ')\n",
    "url =\"https://en.wikipedia.org/wiki/\" + key"
   ]
  },
  {
   "cell_type": "code",
   "execution_count": 3,
   "id": "0e1933ce",
   "metadata": {},
   "outputs": [],
   "source": [
    "page = requests.get(url)\n",
    "soup = bs(page.text, 'html.parser')\n",
    "paragraph = soup.find_all('p')\n",
    "article_text = ''\n",
    "for line in paragraph:\n",
    "    article_text += line.text\n",
    "new_article = article_text.replace('\\n','')\n",
    "text =new_article.replace('\\xa0','')\n",
    "extra_word = []\n",
    "for i in range(len(text)):\n",
    "    if text[i] == '[':\n",
    "        if text[i+2] == ']':\n",
    "            extra = text[i] + text[i+1] +text[i+2]\n",
    "            extra_word.append(extra)\n",
    "        elif text[i+3] == ']':\n",
    "            extra = text[i] + text[i+1] +text[i+2] + text[i+3]\n",
    "            extra_word.append(extra)\n",
    "        elif text[i+4] == ']':\n",
    "            extra = text[i] + text[i+1] +text[i+2]+ text[i+3]+ text[i+4]\n",
    "            extra_word.append(extra)"
   ]
  },
  {
   "cell_type": "code",
   "execution_count": 6,
   "id": "e679112a",
   "metadata": {},
   "outputs": [],
   "source": [
    "def article_summary(text):\n",
    "    from string import punctuation\n",
    "    max = 0\n",
    "    stopwords = list(sw)\n",
    "    nlp = spacy.load('en_core_web_sm')\n",
    "    doc = nlp(text)\n",
    "    tokens = [token.text for token in doc]\n",
    "    punctuation = punctuation + '\\n'\n",
    "    word_frequency = {}\n",
    "    for word in doc:\n",
    "        if word.text.lower() not in pun:\n",
    "            if word.text.lower not in stopwords:\n",
    "                if word.text.lower not in extra_word:\n",
    "                    if word.text not in word_frequency:\n",
    "                        word_frequency[word.text] = 1\n",
    "                    else:\n",
    "                        word_frequency[word.text] += 1\n",
    "    frequency = list(word_frequency.values())\n",
    "    for i in frequency:\n",
    "        if i > max:\n",
    "            max = i\n",
    "    for word in word_frequency:\n",
    "        word_frequency[word] = word_frequency[word]/max\n",
    "    sentense_token = [sent for sent in doc.sents ]\n",
    "    sentense_score = {}\n",
    "    for sent in sentense_token:\n",
    "        for word in sent:\n",
    "            if word.text.lower() in word_frequency.keys():\n",
    "                if sent not in sentense_score.keys():\n",
    "                    sentense_score[sent] = word_frequency[word.text.lower()]\n",
    "                else:\n",
    "                    sentense_score[sent] += word_frequency[word.text.lower()] \n",
    "    select_length = int(len(sentense_token)*0.01)\n",
    "    summary = nlargest(select_length, sentense_score, key = sentense_score.get)\n",
    "    try:    \n",
    "        pre_summary = []\n",
    "        str1 = str(sentense_token[0])\n",
    "        str2 = str(sentense_token[1])\n",
    "        if (sentense_token[0]) not in summary:\n",
    "            pre_summary.append((sentense_token[0]))\n",
    "            if (sentense_token[1]) not in summary:\n",
    "                pre_summary.append((sentense_token[1]))\n",
    "                pre_summary.append(summary)\n",
    "            else:\n",
    "                pre_summary.append(summary)\n",
    "        else:\n",
    "            pre_summary.append(summary)\n",
    "    except:\n",
    "            raise Exception(\"Already done\")\n",
    "    final_summary = [word for word in pre_summary]\n",
    "    if type(final_summary[0]) == spacy.tokens.span.Span:\n",
    "        str1  = str(final_summary[0])\n",
    "    if type(final_summary[1]) == spacy.tokens.span.Span:\n",
    "        str2 = str(final_summary[1])\n",
    "    if type(final_summary[2]) == list:\n",
    "        str3 = str(final_summary[2])\n",
    "    final_summary[0] = str1\n",
    "    final_summary[1] =str2\n",
    "    final_summary[2] = str3\n",
    "    final = ' '.join(final_summary)\n",
    "    short_article = str(final_summary)\n",
    "    Final = short_article.replace('[','')\n",
    "    article = Final.replace(']','')\n",
    "    print(article)\n"
   ]
  },
  {
   "cell_type": "code",
   "execution_count": 7,
   "id": "e1bba53b",
   "metadata": {
    "scrolled": true
   },
   "outputs": [
    {
     "name": "stdout",
     "output_type": "stream",
     "text": [
      "'India, officially the Republic of India (Hindi: Bhārat Gaṇarājya),24 is a country in South Asia.', 'It is the seventh-largest country by area, the second-most populous country, and the most populous democracy in the world.', \"The Mauryan kings are known as much for their empire-building and determined management of public life as for Ashoka's renunciation of militarism and far-flung advocacy of the Buddhist dhamma.9495The Sangam literature of the Tamil language reveals that, between 200BCE and 200CE, the southern peninsula was ruled by the Cheras, the Cholas, and the Pandyas, dynasties that traded extensively with the Roman Empire and with West and South-East Asia.9697 In North India, Hinduism asserted patriarchal control within the family, leading to increased subordination of women.9891 By the 4th and 5th centuries, the Gupta Empire had created a complex system of administration and taxation in the greater Ganges Plain; this system became a model for later Indian kingdoms.99100 Under the Guptas, a renewed Hinduism based on devotion, rather than the management of ritual, began to assert itself.101 This renewal was reflected in a flowering of sculpture and architecture, which found patrons among an urban elite.100 Classical Sanskrit literature flowered as well, and Indian science, astronomy, medicine, and mathematics made significant advances.100The Indian early medieval age, from 600 to 1200CE, is defined by regional kingdoms and cultural diversity.102 When Harsha of Kannauj, who ruled much of the Indo-Gangetic Plain from 606 to 647CE, attempted to expand southwards, he was defeated by the Chalukya ruler of the Deccan.103 When his successor attempted to expand eastwards, he was defeated by the Pala king of Bengal.103 When the Chalukyas attempted to expand southwards, they were defeated by the Pallavas from farther south, who in turn were opposed by the Pandyas and the Cholas from still farther south.103 No ruler of this period was able to create an empire and consistently control lands much beyond their core region.102 During this time, pastoral peoples, whose land had been cleared to make way for the growing agricultural economy, were accommodated within caste society, as were new non-traditional ruling classes.104 The caste system consequently began to show regional differences.104In the 6th and 7th centuries, the first devotional hymns were created in the Tamil language.105 They were imitated all over India and led to both the resurgence of Hinduism and the development of all modern languages of the subcontinent.105 Indian royalty, big and small, and the temples they patronised drew citizens in great numbers to the capital cities, which became economic hubs as well.106 Temple towns of various sizes began to appear everywhere as India underwent another urbanisation.106 By the 8th and 9th centuries, the effects were felt in South-East Asia, as South Indian culture and political systems were exported to lands that became part of modern-day Myanmar, Thailand, Laos, Cambodia, Vietnam, Philippines, Malaysia, and Java.107 Indian merchants, scholars, and sometimes armies were involved in this transmission; South-East Asians took the initiative as well, with many sojourning in Indian seminaries and translating Buddhist and Hindu texts into their languages.107After the 10th century, Muslim Central Asian nomadic clans, using swift-horse cavalry and raising vast armies united by ethnicity and religion, repeatedly overran South Asia's north-western plains, leading eventually to the establishment of the Islamic Delhi Sultanate in 1206.108\"\n"
     ]
    }
   ],
   "source": [
    "article_summary(text)"
   ]
  },
  {
   "cell_type": "code",
   "execution_count": null,
   "id": "7f50acc5",
   "metadata": {},
   "outputs": [],
   "source": []
  }
 ],
 "metadata": {
  "kernelspec": {
   "display_name": "Python 3",
   "language": "python",
   "name": "python3"
  },
  "language_info": {
   "codemirror_mode": {
    "name": "ipython",
    "version": 3
   },
   "file_extension": ".py",
   "mimetype": "text/x-python",
   "name": "python",
   "nbconvert_exporter": "python",
   "pygments_lexer": "ipython3",
   "version": "3.8.8"
  }
 },
 "nbformat": 4,
 "nbformat_minor": 5
}
